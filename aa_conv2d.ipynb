{
 "cells": [
  {
   "cell_type": "code",
   "execution_count": 1,
   "metadata": {},
   "outputs": [],
   "source": [
    "import torch"
   ]
  },
  {
   "cell_type": "code",
   "execution_count": null,
   "metadata": {},
   "outputs": [],
   "source": [
    "class HyperConv2d(nn.Module):\n",
    "    def __init__(self, in_channels, out_channels, kernel_size, padding, num_hparams, stride=1, bias=True):\n",
    "        super(HyperConv2d,self).__init__()\n",
    "        \n",
    "        self.in_channels = in_channels\n",
    "        self.out_channels = out_channels\n",
    "        self.kernel_size = kernel_size\n",
    "        self.padding = padding\n",
    "        self.num_hparams = num_hparams\n",
    "        self.stride = stride\n",
    "        \n",
    "        self.elem_weights =nn.Parameter(torch.Tensor(out_channels, in_channels, kernel_size))"
   ]
  }
 ],
 "metadata": {
  "kernelspec": {
   "display_name": "Python [conda env:p2d-fastai2019]",
   "language": "python",
   "name": "conda-env-p2d-fastai2019-py"
  },
  "language_info": {
   "codemirror_mode": {
    "name": "ipython",
    "version": 3
   },
   "file_extension": ".py",
   "mimetype": "text/x-python",
   "name": "python",
   "nbconvert_exporter": "python",
   "pygments_lexer": "ipython3",
   "version": "3.7.2"
  }
 },
 "nbformat": 4,
 "nbformat_minor": 2
}
