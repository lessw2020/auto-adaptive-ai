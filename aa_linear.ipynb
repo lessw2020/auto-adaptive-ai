{
 "cells": [
  {
   "cell_type": "code",
   "execution_count": 2,
   "metadata": {},
   "outputs": [],
   "source": [
    "%matplotlib inline\n",
    "%reload_ext autoreload\n",
    "%autoreload 2"
   ]
  },
  {
   "cell_type": "code",
   "execution_count": 4,
   "metadata": {},
   "outputs": [],
   "source": [
    "import torch\n",
    "from fastai import *"
   ]
  },
  {
   "cell_type": "code",
   "execution_count": null,
   "metadata": {},
   "outputs": [],
   "source": [
    "class HyperLinear(nn.Module):\n",
    "    def __init__(self, input_dim, output_dim, n_hparams)\n",
    "        super(HyperLinear,self).__init__()\n",
    "\n",
    "        self.input_dim = input_dim\n",
    "        self.output_dim = output_dim\n",
    "        self.n_hparams = n_hparams\n",
    "        self.n_scalars = output_dim\n",
    "\n",
    "        self.elem_w = nn.Parameter(torch.Tensor(output_dim, input_dim))\n",
    "        self.elem_b = nn.Parameter(torch.Tensor(output_dim))\n",
    "\n",
    "        self.hnet_w =nn.Parameter(torch.Tensor(output_dim, input_dim))\n",
    "        self.hnet_b = nn.Parameter(torch.Tensor(output_dim))\n",
    "\n",
    "        self.htensor_to_scalars = nn.Linear(self.n_hparams, self.n_scalars*2, bias =False)\n",
    "\n",
    "        self.init_params()\n",
    "\n",
    "    def forward(self, input, hnet_tensor):\n",
    "        output = F.linear(input, self.elem_w, self.elem_b)\n",
    "        \n",
    "        if hnet_tensor is not None:\n",
    "            hnet_scalars = self.htensor_to_scalars(hnet_tensor)\n",
    "            hnet_wscalars = hnet_scalars[:, :self.n_scalars]\n",
    "            hnet_bscalars = hnet_scalars[:,self.n_scalars:]\n",
    "            \n",
    "            hnet_out = hnet_wscalars * F.linear(input, self.hnet_w)\n",
    "            hnet_out += hnet_bscalars * self.hnet_b\n",
    "            \n",
    "            output += hnet_out\n",
    "            \n",
    "        return output\n",
    "    \n",
    "            \n",
    "    "
   ]
  },
  {
   "cell_type": "code",
   "execution_count": null,
   "metadata": {},
   "outputs": [],
   "source": []
  }
 ],
 "metadata": {
  "kernelspec": {
   "display_name": "Python [conda env:p2d-fastai2019]",
   "language": "python",
   "name": "conda-env-p2d-fastai2019-py"
  },
  "language_info": {
   "codemirror_mode": {
    "name": "ipython",
    "version": 3
   },
   "file_extension": ".py",
   "mimetype": "text/x-python",
   "name": "python",
   "nbconvert_exporter": "python",
   "pygments_lexer": "ipython3",
   "version": "3.7.2"
  }
 },
 "nbformat": 4,
 "nbformat_minor": 2
}
